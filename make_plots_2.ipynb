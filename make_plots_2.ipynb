{
 "cells": [
  {
   "cell_type": "code",
   "execution_count": 0,
   "metadata": {
    "collapsed": true,
    "pycharm": {
     "is_executing": false
    }
   },
   "outputs": [],
   "source": []
  },
  {
   "cell_type": "code",
   "execution_count": 1,
   "outputs": [],
   "source": [
    "\n",
    "from matplotlib.ticker import (MultipleLocator, AutoMinorLocator)\n",
    "import numpy as np\n",
    "import pandas as pd\n",
    "import seaborn as sns\n",
    "import matplotlib.pyplot as plt\n",
    "sns.set_style('darkgrid')"
   ],
   "metadata": {
    "collapsed": false,
    "pycharm": {
     "name": "#%%\n",
     "is_executing": false
    }
   }
  },
  {
   "cell_type": "code",
   "execution_count": 2,
   "outputs": [
    {
     "data": {
      "text/plain": "<Figure size 864x432 with 1 Axes>",
      "image/png": "[encoded data removed]"
     },
     "metadata": {},
     "output_type": "display_data"
    }
   ],
   "source": [
    "#Plot DER, Coverage, Purity WITHOUT NOISE\n",
    "file = '/home/lucas/PycharmProjects/NeMo_SpeakerVerification/Txt_outs/der_cluster_noiseless.txt'\n",
    "overlaps = ['0.2','0.4','0.6','0.8','1']\n",
    "\n",
    "der1 = [np.average([float(line.split()[5]) for line in open(file) if line.split()[1] =='1' and line.split()[2] == j]) for j in overlaps]\n",
    "der2 = [np.average([float(line.split()[5]) for line in open(file) if line.split()[1] =='2' and line.split()[2] == j]) for j in overlaps]\n",
    "der3 = [np.average([float(line.split()[5]) for line in open(file) if line.split()[1] =='3' and line.split()[2] == j]) for j in overlaps]\n",
    "\n",
    "cov1 = [np.average([float(line.split()[3]) for line in open(file) if line.split()[1] =='1' and line.split()[2] == j]) for j in overlaps]\n",
    "cov1 = [np.average([float(line.split()[3]) for line in open(file) if line.split()[1] =='2' and line.split()[2] == j]) for j in overlaps]\n",
    "cov1 = [np.average([float(line.split()[3]) for line in open(file) if line.split()[1] =='3' and line.split()[2] == j]) for j in overlaps]\n",
    "\n",
    "pur1 = [np.average([float(line.split()[4]) for line in open(file) if line.split()[1] =='1' and line.split()[2] == j]) for j in overlaps]\n",
    "pur2 = [np.average([float(line.split()[4]) for line in open(file) if line.split()[1] =='2' and line.split()[2] == j]) for j in overlaps]\n",
    "pur3 = [np.average([float(line.split()[4]) for line in open(file) if line.split()[1] =='3' and line.split()[2] == j]) for j in overlaps]\n",
    "\n",
    "der = np.vstack((der1, der2, der3)).T\n",
    "\n",
    "der = pd.DataFrame(columns=['1','2','3'], index=overlaps, data=der)\n",
    "\n",
    "fig, ax = plt.subplots(1, figsize=(12, 6))\n",
    "der.plot(kind='bar', legend=True, ax=ax)\n",
    "\n",
    "plt.show()\n",
    "\n"
   ],
   "metadata": {
    "collapsed": false,
    "pycharm": {
     "name": "#%%\n",
     "is_executing": false
    }
   }
  }
 ],
 "metadata": {
  "kernelspec": {
   "display_name": "Python 3",
   "language": "python",
   "name": "python3"
  },
  "language_info": {
   "codemirror_mode": {
    "name": "ipython",
    "version": 2
   },
   "file_extension": ".py",
   "mimetype": "text/x-python",
   "name": "python",
   "nbconvert_exporter": "python",
   "pygments_lexer": "ipython2",
   "version": "2.7.6"
  },
  "pycharm": {
   "stem_cell": {
    "cell_type": "raw",
    "source": [],
    "metadata": {
     "collapsed": false
    }
   }
  }
 },
 "nbformat": 4,
 "nbformat_minor": 0
}